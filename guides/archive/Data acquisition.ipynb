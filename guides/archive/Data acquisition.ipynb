{
 "cells": [
  {
   "cell_type": "code",
   "execution_count": null,
   "id": "7fe5bb6f",
   "metadata": {},
   "outputs": [],
   "source": [
    "## Install pyserial---> anaconda prompt: pip install pyserial"
   ]
  },
  {
   "cell_type": "code",
   "execution_count": null,
   "id": "2fed355a",
   "metadata": {},
   "outputs": [],
   "source": [
    "import pandas as pd\n",
    "import serial \n",
    "from datetime import datetime"
   ]
  },
  {
   "cell_type": "code",
   "execution_count": null,
   "id": "6cd407f7",
   "metadata": {},
   "outputs": [],
   "source": [
    "#create the dataframe\n",
    "df=pd.DataFrame(columns=[\"time\",\"co2\",\"temp\",\"hum\"])\n",
    "# serial communication object\n",
    "com=serial.Serial(port='COM4', baudrate=115200)\n",
    "print(\"Lopy Connected\")\n",
    "#confirmation variable"
   ]
  },
  {
   "cell_type": "code",
   "execution_count": null,
   "id": "ff0c4603",
   "metadata": {},
   "outputs": [],
   "source": [
    "i=0\n",
    "while True:\n",
    "#waits to incoming data\n",
    "    if(com.in_waiting > 0):\n",
    "        # variabe recives data\n",
    "        data=com.readline()\n",
    "           # variable divides the data by separator \";\"\n",
    "        val=data.split()\n",
    "        # confirmation the data separation\n",
    "        if len(val)>4:\n",
    "        #400 samples, you can change the number for samples.\n",
    "            if i<199:\n",
    "            # store data in the dataframe\n",
    "                df=df.append({'time': datetime.now(),\n",
    "                                        'co2' : val[0].decode(\"utf-8\") , \n",
    "                                        'temp' : val[2].decode(\"utf-8\") ,\n",
    "                                        'hum' : val[4].decode(\"utf-8\") },\n",
    "                                       ignore_index=True)\n",
    "                   #confirmation\n",
    "                i+=1\n",
    "                print(i)\n",
    "            else:\n",
    "                print(\"End\")\n",
    "                break"
   ]
  },
  {
   "cell_type": "code",
   "execution_count": null,
   "id": "f6894834",
   "metadata": {},
   "outputs": [],
   "source": [
    "com.close()"
   ]
  },
  {
   "cell_type": "code",
   "execution_count": null,
   "id": "0c215494",
   "metadata": {},
   "outputs": [],
   "source": [
    "#export to csv the model\n",
    "df.to_csv(\"dataexe2.csv\")"
   ]
  }
 ],
 "metadata": {
  "kernelspec": {
   "display_name": "Python 3",
   "language": "python",
   "name": "python3"
  },
  "language_info": {
   "codemirror_mode": {
    "name": "ipython",
    "version": 3
   },
   "file_extension": ".py",
   "mimetype": "text/x-python",
   "name": "python",
   "nbconvert_exporter": "python",
   "pygments_lexer": "ipython3",
   "version": "3.8.8"
  }
 },
 "nbformat": 4,
 "nbformat_minor": 5
}
